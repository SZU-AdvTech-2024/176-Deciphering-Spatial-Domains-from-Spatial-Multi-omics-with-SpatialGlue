{
 "cells": [
  {
   "cell_type": "code",
   "execution_count": null,
   "id": "831e9cb6-e659-4fdc-8f7f-baa2ebeffea7",
   "metadata": {},
   "outputs": [],
   "source": [
    "import os\n",
    "import torch\n",
    "import pandas as pd\n",
    "import scanpy as sc"
   ]
  },
  {
   "cell_type": "code",
   "execution_count": null,
   "id": "91284f23-f6a1-45f0-a2ad-948d82864155",
   "metadata": {},
   "outputs": [],
   "source": [
    "import SpatialGlue"
   ]
  },
  {
   "cell_type": "code",
   "execution_count": null,
   "id": "00d46c7a-3bed-4ca8-8405-5d2d16a1e670",
   "metadata": {},
   "outputs": [],
   "source": [
    "device = torch.device('cuda:1' if torch.cuda.is_available() else 'cuda:2')\n",
    "os.environ['R_HOME']='/home/Lray/miniconda3/envs/SpatialGlue/lib/R'"
   ]
  },
  {
   "cell_type": "code",
   "execution_count": null,
   "id": "505cfe16-3651-45fd-84d1-970edb08dc59",
   "metadata": {},
   "outputs": [],
   "source": [
    "# read data\n",
    "file_fold = '/home/Lray/miniconda3/work/SpatialGlue_revision/data/Mouse_Thymus/' #please replace 'file_fold' with the download path\n",
    "\n",
    "adata_omics1 = sc.read_h5ad(file_fold + 'adata_RNA.h5ad')\n",
    "adata_omics2 = sc.read_h5ad(file_fold + 'adata_ADT.h5ad')\n",
    "\n",
    "adata_omics1.var_names_make_unique()\n",
    "adata_omics2.var_names_make_unique()"
   ]
  },
  {
   "cell_type": "code",
   "execution_count": null,
   "id": "25965c44-3de4-47c3-9dfa-023d22f87d1a",
   "metadata": {},
   "outputs": [],
   "source": [
    "# Specify data type\n",
    "data_type = 'Stereo-CITE-seq'\n",
    "\n",
    "# Fix random seed\n",
    "from SpatialGlue.preprocess import fix_seed\n",
    "random_seed = 2022\n",
    "fix_seed(random_seed)"
   ]
  },
  {
   "cell_type": "code",
   "execution_count": null,
   "id": "95b6c3b9-45cd-4c8f-a2eb-95a0bf1b67f1",
   "metadata": {},
   "outputs": [],
   "source": [
    "from SpatialGlue.preprocess import clr_normalize_each_cell, pca\n",
    "\n",
    "# RNA\n",
    "sc.pp.filter_genes(adata_omics1, min_cells=10)\n",
    "sc.pp.filter_cells(adata_omics1, min_genes=80)\n",
    "\n",
    "sc.pp.filter_genes(adata_omics2, min_cells=50)\n",
    "adata_omics2 = adata_omics2[adata_omics1.obs_names].copy()\n",
    "\n",
    "sc.pp.highly_variable_genes(adata_omics1, flavor=\"seurat_v3\", n_top_genes=3000)\n",
    "sc.pp.normalize_total(adata_omics1, target_sum=1e4)\n",
    "sc.pp.log1p(adata_omics1)\n",
    "\n",
    "adata_omics1_high =  adata_omics1[:, adata_omics1.var['highly_variable']]\n",
    "adata_omics1.obsm['feat'] = pca(adata_omics1_high, n_comps=adata_omics2.n_vars-1)\n",
    "\n",
    "# Protein\n",
    "adata_omics2 = clr_normalize_each_cell(adata_omics2)\n",
    "adata_omics2.obsm['feat'] = pca(adata_omics2, n_comps=adata_omics2.n_vars-1)"
   ]
  },
  {
   "cell_type": "code",
   "execution_count": null,
   "id": "d0c1c9a0-1c9f-449a-af6a-e49d153919c6",
   "metadata": {},
   "outputs": [],
   "source": [
    "from SpatialGlue.preprocess import construct_neighbor_graph\n",
    "data = construct_neighbor_graph(adata_omics1, adata_omics2, datatype=data_type)"
   ]
  },
  {
   "cell_type": "code",
   "execution_count": null,
   "id": "2702fbaa-a0dc-4cd8-8023-292991397d1b",
   "metadata": {},
   "outputs": [],
   "source": [
    "# define model\n",
    "from SpatialGlue.SpatialGlue_pyG import Train_SpatialGlue\n",
    "model = Train_SpatialGlue(data, datatype=data_type, device=device)\n",
    "\n",
    "# train model\n",
    "output = model.train()"
   ]
  },
  {
   "cell_type": "code",
   "execution_count": null,
   "id": "d30422bb-3361-41df-b47b-5d895db491b1",
   "metadata": {},
   "outputs": [],
   "source": [
    "Train_SpatialGlue??"
   ]
  },
  {
   "cell_type": "code",
   "execution_count": null,
   "id": "bfd77701-d68c-49d0-af21-8fdb7fac55a4",
   "metadata": {},
   "outputs": [],
   "source": [
    "adata = adata_omics1.copy()\n",
    "adata.obsm['emb_latent_omics1'] = output['emb_latent_omics1']\n",
    "adata.obsm['emb_latent_omics2'] = output['emb_latent_omics2']\n",
    "adata.obsm['SpatialGlue'] = output['SpatialGlue']\n",
    "adata.obsm['alpha'] = output['alpha']\n",
    "adata.obsm['alpha_omics1'] = output['alpha_omics1']\n",
    "adata.obsm['alpha_omics2'] = output['alpha_omics2']"
   ]
  },
  {
   "cell_type": "code",
   "execution_count": null,
   "id": "cb30746a-ae89-46c0-9f92-f55d6e48e6ac",
   "metadata": {},
   "outputs": [],
   "source": [
    "# we set 'mclust' as clustering tool by default. Users can also select 'leiden' and 'louvain'\n",
    "from SpatialGlue.utils import clustering\n",
    "tool = 'mclust' # mclust, leiden, and louvain\n",
    "clustering(adata, key='SpatialGlue', add_key='SpatialGlue', n_clusters=8, method=tool, use_pca=True)"
   ]
  },
  {
   "cell_type": "code",
   "execution_count": null,
   "id": "21fba679-f947-4b54-902e-8cb3c396f8e7",
   "metadata": {},
   "outputs": [],
   "source": [
    "# visualization\n",
    "import matplotlib.pyplot as plt\n",
    "adata.obsm['spatial'][:,1] = -1*adata.obsm['spatial'][:,1]\n",
    "\n",
    "fig, ax_list = plt.subplots(1, 2, figsize=(7, 3))\n",
    "sc.pp.neighbors(adata, use_rep='SpatialGlue', n_neighbors=30)\n",
    "sc.tl.umap(adata)\n",
    "\n",
    "sc.pl.umap(adata, color='SpatialGlue', ax=ax_list[0], title='SpatialGlue', s=20, show=False)\n",
    "sc.pl.embedding(adata, basis='spatial', color='SpatialGlue', ax=ax_list[1], title='SpatialGlue', s=20, show=False)\n",
    "\n",
    "plt.tight_layout(w_pad=0.3)\n",
    "plt.show()"
   ]
  },
  {
   "cell_type": "code",
   "execution_count": null,
   "id": "95e01b93-f71e-4a9c-a0b1-6ad4435e8b8e",
   "metadata": {},
   "outputs": [],
   "source": [
    "# annotation\n",
    "adata.obs['SpatialGlue_number'] = adata.obs['SpatialGlue'].copy()\n",
    "adata.obs['SpatialGlue'].cat.rename_categories({1: '5-Outer cortex region 3(DN T,DP T,cTEC)',\n",
    "                                                2: '7-Subcapsular zone(DN T)',\n",
    "                                                3: '4-Middle cortex region 2(DN T,DP T,cTEC)',\n",
    "                                                4: '2-Corticomedullary Junction(CMJ)',\n",
    "                                                5: '1-Medulla(SP T,mTEC,DC)',\n",
    "                                                6: '6-Connective tissue capsule(fibroblast)',\n",
    "                                                7: '8-Connective tissue capsule(fibroblast,RBC,myeloid)',\n",
    "                                                8: '3-Inner cortex region 1(DN T,DP T,cTEC)'\n",
    "                                                }, inplace=True)"
   ]
  },
  {
   "cell_type": "code",
   "execution_count": null,
   "id": "51c82509-e361-4b08-a311-c1dd8bb0f17a",
   "metadata": {},
   "outputs": [],
   "source": [
    "list_ = ['3-Inner cortex region 1(DN T,DP T,cTEC)','2-Corticomedullary Junction(CMJ)','4-Middle cortex region 2(DN T,DP T,cTEC)',\n",
    "         '7-Subcapsular zone(DN T)', '5-Outer cortex region 3(DN T,DP T,cTEC)', '8-Connective tissue capsule(fibroblast,RBC,myeloid)',\n",
    "         '1-Medulla(SP T,mTEC,DC)','6-Connective tissue capsule(fibroblast)']\n",
    "adata.obs['SpatialGlue']  = pd.Categorical(adata.obs['SpatialGlue'],\n",
    "                      categories=list_,\n",
    "                      ordered=True)"
   ]
  },
  {
   "cell_type": "code",
   "execution_count": null,
   "id": "eb5c96c1-a4d7-474e-a44e-84b664d37d91",
   "metadata": {},
   "outputs": [],
   "source": [
    "# plotting with annotation\n",
    "fig, ax_list = plt.subplots(1, 2, figsize=(9.5, 3))\n",
    "sc.pp.neighbors(adata, use_rep='SpatialGlue', n_neighbors=30)\n",
    "sc.tl.umap(adata)\n",
    "\n",
    "sc.pl.umap(adata, color='SpatialGlue', ax=ax_list[0], title='SpatialGlue', s=10, show=False)\n",
    "sc.pl.embedding(adata, basis='spatial', color='SpatialGlue', ax=ax_list[1], title='SpatialGlue', s=20, show=False)\n",
    "\n",
    "ax_list[0].get_legend().remove()\n",
    "\n",
    "plt.tight_layout(w_pad=0.3)\n",
    "plt.show()"
   ]
  },
  {
   "cell_type": "code",
   "execution_count": null,
   "id": "ef95a1e8-3154-45fa-9d68-b67eb4041780",
   "metadata": {},
   "outputs": [],
   "source": [
    "# Exchange attention weights corresponding to annotations\n",
    "list_SpatialGlue = [5,4,8,3,1,6,2,7]\n",
    "adata.obs['SpatialGlue_number']  = pd.Categorical(adata.obs['SpatialGlue_number'],\n",
    "                      categories=list_SpatialGlue,\n",
    "                      ordered=True)\n",
    "adata.obs['SpatialGlue_number'].cat.rename_categories({5:1,\n",
    "                                                       4:2,\n",
    "                                                       8:3,\n",
    "                                                       3:4,\n",
    "                                                       1:5,\n",
    "                                                       6:6,\n",
    "                                                       2:7,\n",
    "                                                       7:8\n",
    "                                                }, inplace=True)"
   ]
  },
  {
   "cell_type": "code",
   "execution_count": null,
   "id": "df19f6b7-11ce-46bc-a813-a2664df7f891",
   "metadata": {},
   "outputs": [],
   "source": [
    "# plotting modality weight values.\n",
    "import pandas as pd\n",
    "import seaborn as sns\n",
    "plt.rcParams['figure.figsize'] = (5,3)\n",
    "df = pd.DataFrame(columns=['RNA', 'protein', 'label'])\n",
    "df['RNA'], df['protein'] = adata.obsm['alpha'][:, 0], adata.obsm['alpha'][:, 1]\n",
    "df['label'] = adata.obs['SpatialGlue_number'].values\n",
    "df = df.set_index('label').stack().reset_index()\n",
    "df.columns = ['label_SpatialGlue', 'Modality', 'Weight value']\n",
    "ax = sns.violinplot(data=df, x='label_SpatialGlue', y='Weight value', hue=\"Modality\",\n",
    "                split=True, inner=\"quart\", linewidth=1)\n",
    "ax.set_title('RNA vs protein')\n",
    "ax.set_xlabel('SpatialGlue label')\n",
    "ax.legend(bbox_to_anchor=(1.4, 1.01), loc='upper right')\n",
    "\n",
    "plt.tight_layout(w_pad=0.05)\n",
    "plt.show()"
   ]
  },
  {
   "cell_type": "code",
   "execution_count": null,
   "id": "d95374c3-7ea3-405a-bc43-a306929996a8",
   "metadata": {},
   "outputs": [],
   "source": []
  }
 ],
 "metadata": {
  "kernelspec": {
   "display_name": "SpatialGlue",
   "language": "python",
   "name": "spatialglue"
  },
  "language_info": {
   "codemirror_mode": {
    "name": "ipython",
    "version": 3
   },
   "file_extension": ".py",
   "mimetype": "text/x-python",
   "name": "python",
   "nbconvert_exporter": "python",
   "pygments_lexer": "ipython3",
   "version": "3.8.20"
  }
 },
 "nbformat": 4,
 "nbformat_minor": 5
}
