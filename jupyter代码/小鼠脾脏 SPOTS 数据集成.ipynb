{
 "cells": [
  {
   "cell_type": "code",
   "execution_count": null,
   "id": "a212c8b9-5cc7-4831-a4a6-d266d9ffca63",
   "metadata": {},
   "outputs": [],
   "source": [
    "import os\n",
    "import torch\n",
    "import pandas as pd\n",
    "import scanpy as sc"
   ]
  },
  {
   "cell_type": "code",
   "execution_count": null,
   "id": "9c774d9d-2218-435a-9ba2-b6157052d3da",
   "metadata": {},
   "outputs": [],
   "source": [
    "import SpatialGlue"
   ]
  },
  {
   "cell_type": "code",
   "execution_count": null,
   "id": "579f6936-8d7c-446f-903d-7fbfa72f17bb",
   "metadata": {},
   "outputs": [],
   "source": [
    "device = torch.device('cuda:1' if torch.cuda.is_available() else 'cuda:2')\n",
    "os.environ['R_HOME']='/home/Lray/miniconda3/envs/SpatialGlue/lib/R'"
   ]
  },
  {
   "cell_type": "code",
   "execution_count": null,
   "id": "2764e579-ca98-4111-aab4-ad5e735055d1",
   "metadata": {},
   "outputs": [],
   "source": [
    "# read data\n",
    "file_fold = '/home/Lray/miniconda3/work/SpatialGlue_revision/data/Mouse_Spleen/'\n",
    "\n",
    "adata_omics1 = sc.read_h5ad(file_fold + 'adata_RNA.h5ad')\n",
    "adata_omics2 = sc.read_h5ad(file_fold + 'adata_Pro.h5ad')\n",
    "\n",
    "adata_omics1.var_names_make_unique()\n",
    "adata_omics2.var_names_make_unique()"
   ]
  },
  {
   "cell_type": "code",
   "execution_count": null,
   "id": "fd352f6f-1700-442e-a07b-c9c91ad5f7e5",
   "metadata": {},
   "outputs": [],
   "source": [
    "adata_omics1"
   ]
  },
  {
   "cell_type": "code",
   "execution_count": null,
   "id": "63439fc7-5e23-474f-b691-10bd2ed82aad",
   "metadata": {},
   "outputs": [],
   "source": [
    "adata_omics1.var.head()"
   ]
  },
  {
   "cell_type": "code",
   "execution_count": null,
   "id": "09d777a9-2f0c-413c-8b9e-65ea7e6ba791",
   "metadata": {},
   "outputs": [],
   "source": [
    "# Specify data type\n",
    "data_type = 'SPOTS'\n",
    "\n",
    "# Fix random seed\n",
    "from SpatialGlue.preprocess import fix_seed\n",
    "random_seed = 2022\n",
    "fix_seed(random_seed)"
   ]
  },
  {
   "cell_type": "code",
   "execution_count": null,
   "id": "9ac8f5f3-f2da-4433-99bc-7bfaa6a9c7c4",
   "metadata": {},
   "outputs": [],
   "source": [
    "from SpatialGlue.preprocess import clr_normalize_each_cell, pca\n",
    "\n",
    "# RNA\n",
    "sc.pp.filter_genes(adata_omics1, min_cells=10)\n",
    "sc.pp.highly_variable_genes(adata_omics1, flavor=\"seurat_v3\", n_top_genes=3000)\n",
    "sc.pp.normalize_total(adata_omics1, target_sum=1e4)\n",
    "sc.pp.log1p(adata_omics1)\n",
    "sc.pp.scale(adata_omics1)\n",
    "\n",
    "adata_omics1_high =  adata_omics1[:, adata_omics1.var['highly_variable']]\n",
    "adata_omics1.obsm['feat'] = pca(adata_omics1_high, n_comps=adata_omics2.n_vars-1)\n",
    "\n",
    "# Protein\n",
    "adata_omics2 = clr_normalize_each_cell(adata_omics2)\n",
    "sc.pp.scale(adata_omics2)\n",
    "adata_omics2.obsm['feat'] = pca(adata_omics2, n_comps=adata_omics2.n_vars-1)"
   ]
  },
  {
   "cell_type": "code",
   "execution_count": null,
   "id": "94c39066-69d8-442f-8ae3-67708e0f236d",
   "metadata": {},
   "outputs": [],
   "source": [
    "from SpatialGlue.preprocess import construct_neighbor_graph\n",
    "data = construct_neighbor_graph(adata_omics1, adata_omics2, datatype=data_type)"
   ]
  },
  {
   "cell_type": "code",
   "execution_count": null,
   "id": "71129aee-4273-44c5-8551-b2fe82b7d778",
   "metadata": {},
   "outputs": [],
   "source": [
    "# define model\n",
    "from SpatialGlue.SpatialGlue_pyG import Train_SpatialGlue\n",
    "model = Train_SpatialGlue(data, datatype=data_type, device=device)\n",
    "\n",
    "# train model\n",
    "output = model.train()"
   ]
  },
  {
   "cell_type": "code",
   "execution_count": null,
   "id": "055237da-50a7-4344-b244-0f474fb0a8f2",
   "metadata": {},
   "outputs": [],
   "source": [
    "adata = adata_omics1.copy()\n",
    "adata.obsm['emb_latent_omics1'] = output['emb_latent_omics1'].copy()\n",
    "adata.obsm['emb_latent_omics2'] = output['emb_latent_omics2'].copy()\n",
    "adata.obsm['SpatialGlue'] = output['SpatialGlue'].copy()\n",
    "adata.obsm['alpha'] = output['alpha']\n",
    "adata.obsm['alpha_omics1'] = output['alpha_omics1']\n",
    "adata.obsm['alpha_omics2'] = output['alpha_omics2']"
   ]
  },
  {
   "cell_type": "code",
   "execution_count": null,
   "id": "779a2512-122e-4635-a2d3-06ac3c4949fd",
   "metadata": {},
   "outputs": [],
   "source": [
    "# we set 'mclust' as clustering tool by default. Users can also select 'leiden' and 'louvain'\n",
    "from SpatialGlue.utils import clustering\n",
    "tool = 'mclust' # mclust, leiden, and louvain\n",
    "clustering(adata, key='SpatialGlue', add_key='SpatialGlue', n_clusters=5, method=tool, use_pca=True)"
   ]
  },
  {
   "cell_type": "code",
   "execution_count": null,
   "id": "0028a515-42c2-404d-9ad3-fa7c8d50d82a",
   "metadata": {},
   "outputs": [],
   "source": [
    "# flip tissue image\n",
    "import numpy as np\n",
    "adata.obsm['spatial'] = np.rot90(np.rot90(np.rot90(np.array(adata.obsm['spatial'])).T).T).T\n",
    "adata.obsm['spatial'][:,1] = -1*adata.obsm['spatial'][:,1]"
   ]
  },
  {
   "cell_type": "code",
   "execution_count": null,
   "id": "a52b2422-d024-46c8-bbfe-bd0d05e32856",
   "metadata": {},
   "outputs": [],
   "source": [
    "# visualization\n",
    "import matplotlib.pyplot as plt\n",
    "fig, ax_list = plt.subplots(1, 2, figsize=(7, 3))\n",
    "sc.pp.neighbors(adata, use_rep='SpatialGlue', n_neighbors=10)\n",
    "sc.tl.umap(adata)\n",
    "\n",
    "sc.pl.umap(adata, color='SpatialGlue', ax=ax_list[0], title='SpatialGlue', s=20, show=False)\n",
    "sc.pl.embedding(adata, basis='spatial', color='SpatialGlue', ax=ax_list[1], title='SpatialGlue', s=25, show=False)\n",
    "\n",
    "plt.tight_layout(w_pad=0.3)\n",
    "plt.show()"
   ]
  },
  {
   "cell_type": "code",
   "execution_count": null,
   "id": "24d2cc6d-54d4-4e7c-bc4f-a4540b38a140",
   "metadata": {},
   "outputs": [],
   "source": [
    "# annotation\n",
    "adata.obs['SpatialGlue_number'] = adata.obs['SpatialGlue'].copy()\n",
    "\n",
    "# 'MZMØ' represents marginal zone macrophage, 'MMMØ' represents marginal metallophilic macrophages, 'RpMØ' represents red pulp macrophage\n",
    "adata.obs['SpatialGlue'].cat.rename_categories({1: 'MMMØ',\n",
    "                                                   2: 'MZMØ',\n",
    "                                                   3: 'B cell',\n",
    "                                                   4: 'T cell',\n",
    "                                                   5: 'RpMØ'\n",
    "                                                   }, inplace=True)"
   ]
  },
  {
   "cell_type": "code",
   "execution_count": null,
   "id": "de13b07e-c5ce-40b0-a314-d11932acaebf",
   "metadata": {},
   "outputs": [],
   "source": [
    "# reorder\n",
    "import pandas as pd\n",
    "list_ = ['MZMØ','MMMØ','RpMØ','B cell', 'T cell']\n",
    "adata.obs['SpatialGlue']  = pd.Categorical(adata.obs['SpatialGlue'],\n",
    "                      categories=list_,\n",
    "                      ordered=True)"
   ]
  },
  {
   "cell_type": "code",
   "execution_count": null,
   "id": "5c773d0f-41e6-4044-932f-9bb075da7287",
   "metadata": {},
   "outputs": [],
   "source": [
    "# plotting with annotation\n",
    "fig, ax_list = plt.subplots(1, 2, figsize=(6.5, 3))\n",
    "\n",
    "sc.pl.umap(adata, color='SpatialGlue', ax=ax_list[0], title='SpatialGlue', s=20, show=False)\n",
    "sc.pl.embedding(adata, basis='spatial', color='SpatialGlue', ax=ax_list[1], title='SpatialGlue', s=25, show=False)\n",
    "ax_list[0].get_legend().remove()\n",
    "\n",
    "plt.tight_layout(w_pad=0.3)\n",
    "plt.show()"
   ]
  },
  {
   "cell_type": "code",
   "execution_count": null,
   "id": "4cea66b4-8c4f-4239-b30e-73c34fb61782",
   "metadata": {},
   "outputs": [],
   "source": [
    "# plotting modality weight values.\n",
    "import pandas as pd\n",
    "import seaborn as sns\n",
    "plt.rcParams['figure.figsize'] = (5,3)\n",
    "df = pd.DataFrame(columns=['RNA', 'protein', 'label'])\n",
    "df['RNA'], df['protein'] = adata.obsm['alpha'][:, 0], adata.obsm['alpha'][:, 1]\n",
    "df['label'] = adata.obs['SpatialGlue'].values\n",
    "df = df.set_index('label').stack().reset_index()\n",
    "df.columns = ['label_SpatialGlue', 'Modality', 'Weight value']\n",
    "ax = sns.violinplot(data=df, x='label_SpatialGlue', y='Weight value', hue=\"Modality\",\n",
    "                split=True, inner=\"quart\", linewidth=1)\n",
    "ax.set_title('RNA vs protein')\n",
    "ax.set_xlabel('SpatialGlue label')\n",
    "ax.legend(bbox_to_anchor=(1.4, 1.01), loc='upper right')\n",
    "\n",
    "plt.tight_layout(w_pad=0.05)\n",
    "plt.show()"
   ]
  },
  {
   "cell_type": "code",
   "execution_count": null,
   "id": "7474bb39-e214-4509-8ee3-8cd6f1712a45",
   "metadata": {},
   "outputs": [],
   "source": []
  }
 ],
 "metadata": {
  "kernelspec": {
   "display_name": "SpatialGlue",
   "language": "python",
   "name": "spatialglue"
  },
  "language_info": {
   "codemirror_mode": {
    "name": "ipython",
    "version": 3
   },
   "file_extension": ".py",
   "mimetype": "text/x-python",
   "name": "python",
   "nbconvert_exporter": "python",
   "pygments_lexer": "ipython3",
   "version": "3.8.20"
  }
 },
 "nbformat": 4,
 "nbformat_minor": 5
}
