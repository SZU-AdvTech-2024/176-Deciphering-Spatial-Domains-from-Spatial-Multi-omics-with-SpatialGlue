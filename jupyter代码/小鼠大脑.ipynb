{
 "cells": [
  {
   "cell_type": "code",
   "execution_count": null,
   "id": "b478d143-b1bb-430a-9572-1590de05e2d3",
   "metadata": {},
   "outputs": [],
   "source": [
    "import os\n",
    "import torch\n",
    "import pandas as pd\n",
    "import scanpy as sc"
   ]
  },
  {
   "cell_type": "code",
   "execution_count": null,
   "id": "c84ac2a9-dd5d-446b-9fe8-ddea890596d0",
   "metadata": {},
   "outputs": [],
   "source": [
    "import rpy2.robjects as ro"
   ]
  },
  {
   "cell_type": "code",
   "execution_count": null,
   "id": "9f8ccbce-7384-44b6-9f6d-892fc6fe0ebf",
   "metadata": {},
   "outputs": [],
   "source": [
    "import SpatialGlue"
   ]
  },
  {
   "cell_type": "code",
   "execution_count": null,
   "id": "d7cd8321-3b68-4544-9da6-c0f25fa7d0b8",
   "metadata": {},
   "outputs": [],
   "source": [
    "device = torch.device('cuda:3' if torch.cuda.is_available() else 'cpu')\n",
    "os.environ['R_HOME']='/home/Lray/miniconda3/envs/spatialglue/lib/R'"
   ]
  },
  {
   "cell_type": "code",
   "execution_count": null,
   "id": "8275c847-052c-45b7-840e-ad48a8513440",
   "metadata": {},
   "outputs": [],
   "source": [
    "# Specify data type\n",
    "data_type = 'Spatial-epigenome-transcriptome'\n",
    "\n",
    "# Fix random seed\n",
    "from SpatialGlue.preprocess import fix_seed\n",
    "random_seed = 2022\n",
    "fix_seed(random_seed)"
   ]
  },
  {
   "cell_type": "code",
   "execution_count": null,
   "id": "58e9f5e6-d72e-4ef5-89fa-6969672b1a41",
   "metadata": {},
   "outputs": [],
   "source": [
    "# read data\n",
    "file_fold = '/home/Lray/miniconda3/work/SpatialGlue_revision/data/Mouse_Brain/'\n",
    "\n",
    "adata_omics1 = sc.read_h5ad(file_fold + 'adata_RNA.h5ad')\n",
    "adata_omics2 = sc.read_h5ad(file_fold + 'adata_peaks_normalized.h5ad')\n",
    "\n",
    "adata_omics1.var_names_make_unique()\n",
    "adata_omics2.var_names_make_unique()"
   ]
  },
  {
   "cell_type": "code",
   "execution_count": null,
   "id": "37025c4f-938e-4023-9bc6-b89fed07be09",
   "metadata": {},
   "outputs": [],
   "source": [
    "from SpatialGlue.preprocess import clr_normalize_each_cell, pca, lsi\n",
    "\n",
    "# RNA\n",
    "sc.pp.filter_genes(adata_omics1, min_cells=10)\n",
    "sc.pp.filter_cells(adata_omics1, min_genes=200)\n",
    "\n",
    "sc.pp.highly_variable_genes(adata_omics1, flavor=\"seurat_v3\", n_top_genes=3000)\n",
    "sc.pp.normalize_total(adata_omics1, target_sum=1e4)\n",
    "sc.pp.log1p(adata_omics1)\n",
    "sc.pp.scale(adata_omics1)\n",
    "\n",
    "adata_omics1_high =  adata_omics1[:, adata_omics1.var['highly_variable']]\n",
    "adata_omics1.obsm['feat'] = pca(adata_omics1_high, n_comps=50)\n",
    "\n",
    "# ATAC\n",
    "adata_omics2 = adata_omics2[adata_omics1.obs_names].copy() # .obsm['X_lsi'] represents the dimension reduced feature\n",
    "if 'X_lsi' not in adata_omics2.obsm.keys():\n",
    "    sc.pp.highly_variable_genes(adata_omics2, flavor=\"seurat_v3\", n_top_genes=3000)\n",
    "    lsi(adata_omics2, use_highly_variable=False, n_components=51)\n",
    "\n",
    "adata_omics2.obsm['feat'] = adata_omics2.obsm['X_lsi'].copy()"
   ]
  },
  {
   "cell_type": "code",
   "execution_count": null,
   "id": "8d31951d-8472-4fa8-8930-59b1979f6c6f",
   "metadata": {},
   "outputs": [],
   "source": [
    "from SpatialGlue.preprocess import construct_neighbor_graph\n",
    "data = construct_neighbor_graph(adata_omics1, adata_omics2, datatype=data_type)"
   ]
  },
  {
   "cell_type": "code",
   "execution_count": null,
   "id": "0a786af9-c614-4c27-9cdb-6683cd0439ba",
   "metadata": {},
   "outputs": [],
   "source": [
    "# define model\n",
    "from SpatialGlue.SpatialGlue_pyG import Train_SpatialGlue\n",
    "model = Train_SpatialGlue(data, datatype=data_type, device=device)\n",
    "\n",
    "# train model\n",
    "output = model.train()"
   ]
  },
  {
   "cell_type": "code",
   "execution_count": null,
   "id": "7f21fb88-8b6a-47b6-a7ed-e3dc18b7e5a9",
   "metadata": {},
   "outputs": [],
   "source": [
    "adata = adata_omics1.copy()\n",
    "adata.obsm['emb_latent_omics1'] = output['emb_latent_omics1']\n",
    "adata.obsm['emb_latent_omics2'] = output['emb_latent_omics2']\n",
    "adata.obsm['SpatialGlue'] = output['SpatialGlue']\n",
    "adata.obsm['alpha'] = output['alpha']\n",
    "adata.obsm['alpha_omics1'] = output['alpha_omics1']\n",
    "adata.obsm['alpha_omics2'] = output['alpha_omics2']"
   ]
  },
  {
   "cell_type": "code",
   "execution_count": null,
   "id": "492e186f-1ed6-485a-b52d-e17660a187fe",
   "metadata": {},
   "outputs": [],
   "source": [
    "# we set 'mclust' as clustering tool by default. Users can also select 'leiden' and 'louvain'\n",
    "from SpatialGlue.utils import clustering\n",
    "tool = 'mclust' # mclust, leiden, and louvain\n",
    "clustering(adata, key='SpatialGlue', add_key='SpatialGlue', n_clusters=18, method=tool, use_pca=True)"
   ]
  },
  {
   "cell_type": "code",
   "execution_count": null,
   "id": "ea21ed3f-4e67-465b-b997-ff875ed7c48c",
   "metadata": {},
   "outputs": [],
   "source": [
    "# visualization\n",
    "import matplotlib.pyplot as plt\n",
    "fig, ax_list = plt.subplots(1, 2, figsize=(14, 5))\n",
    "sc.pp.neighbors(adata, use_rep='SpatialGlue', n_neighbors=30)\n",
    "sc.tl.umap(adata)\n",
    "\n",
    "sc.pl.umap(adata, color='SpatialGlue', ax=ax_list[0], title='SpatialGlue', s=60, show=False)\n",
    "sc.pl.embedding(adata, basis='spatial', color='SpatialGlue', ax=ax_list[1], title='SpatialGlue', s=90, show=False)\n",
    "\n",
    "plt.tight_layout(w_pad=0.3)\n",
    "plt.show()"
   ]
  },
  {
   "cell_type": "code",
   "execution_count": null,
   "id": "ce32aa4c-bee2-4ecc-94d1-d7d43e4bb9c5",
   "metadata": {},
   "outputs": [],
   "source": [
    "# plotting modality weight values.\n",
    "import pandas as pd\n",
    "import seaborn as sns\n",
    "plt.rcParams['figure.figsize'] = (7,3)\n",
    "df = pd.DataFrame(columns=['RNA', 'peak', 'label'])\n",
    "df['RNA'], df['peak'] = adata.obsm['alpha'][:, 0], adata.obsm['alpha'][:, 1]\n",
    "df['label'] = adata.obs['SpatialGlue'].values\n",
    "df = df.set_index('label').stack().reset_index()\n",
    "df.columns = ['label_SpatialGlue', 'Modality', 'Weight value']\n",
    "ax = sns.violinplot(data=df, x='label_SpatialGlue', y='Weight value', hue=\"Modality\",\n",
    "                split=True, inner=\"quart\", linewidth=1)\n",
    "ax.set_title('RNA vs peak')\n",
    "ax.set_xlabel('SpatialGlue label')\n",
    "ax.legend(bbox_to_anchor=(1.2, 1.01), loc='upper right')\n",
    "\n",
    "plt.tight_layout(w_pad=0.05)\n",
    "#plt.show()"
   ]
  },
  {
   "cell_type": "code",
   "execution_count": null,
   "id": "833aa49c-3d78-4c17-9e8d-539d9ada4ab5",
   "metadata": {},
   "outputs": [],
   "source": []
  }
 ],
 "metadata": {
  "kernelspec": {
   "display_name": "spatailglue",
   "language": "python",
   "name": "spatailglue"
  },
  "language_info": {
   "codemirror_mode": {
    "name": "ipython",
    "version": 3
   },
   "file_extension": ".py",
   "mimetype": "text/x-python",
   "name": "python",
   "nbconvert_exporter": "python",
   "pygments_lexer": "ipython3",
   "version": "3.8.20"
  }
 },
 "nbformat": 4,
 "nbformat_minor": 5
}
