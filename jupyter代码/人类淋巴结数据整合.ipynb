{
 "cells": [
  {
   "cell_type": "code",
   "execution_count": null,
   "id": "041f3eb7-8c9e-4aee-8205-3abed20fac0c",
   "metadata": {},
   "outputs": [],
   "source": [
    "import os\n",
    "import torch\n",
    "import pandas as pd\n",
    "import scanpy as sc"
   ]
  },
  {
   "cell_type": "code",
   "execution_count": null,
   "id": "3d3260f9-bd1c-4b7b-a3e0-fd5c3eb1ffeb",
   "metadata": {},
   "outputs": [],
   "source": [
    "import SpatialGlue"
   ]
  },
  {
   "cell_type": "code",
   "execution_count": null,
   "id": "5cc1b9a2-28fe-4d7d-b174-08b72d8f241c",
   "metadata": {},
   "outputs": [],
   "source": [
    "device = torch.device('cuda:1' if torch.cuda.is_available() else 'cpu')\n",
    "os.environ['R_HOME']='/home/Lray/miniconda3/envs/spatialglue/lib/R'"
   ]
  },
  {
   "cell_type": "code",
   "execution_count": null,
   "id": "dba7ff26-7e04-42f9-859a-e2b6671eabdb",
   "metadata": {},
   "outputs": [],
   "source": [
    "# read data\n",
    "file_fold = '/home/Lray/miniconda3/work/SpatialGlue_revision/data/Dataset11_Lymph_Node_A1/Human_Lymph_Node/'\n",
    "\n",
    "adata_omics1 = sc.read_h5ad(file_fold + 'adata_RNA.h5ad')\n",
    "adata_omics2 = sc.read_h5ad(file_fold + 'adata_ADT.h5ad')\n",
    "\n",
    "adata_omics1.var_names_make_unique()\n",
    "adata_omics2.var_names_make_unique()"
   ]
  },
  {
   "cell_type": "code",
   "execution_count": null,
   "id": "6eaee6d5-920a-4891-8f17-f98e88997779",
   "metadata": {},
   "outputs": [],
   "source": [
    "# Specify data type\n",
    "data_type = '10x'\n",
    "\n",
    "# Fix random seed\n",
    "from SpatialGlue.preprocess import fix_seed\n",
    "random_seed = 2022\n",
    "fix_seed(random_seed)"
   ]
  },
  {
   "cell_type": "code",
   "execution_count": null,
   "id": "f0b3721b-5fe7-4604-958b-0b2408bd0078",
   "metadata": {},
   "outputs": [],
   "source": [
    "from SpatialGlue.preprocess import clr_normalize_each_cell, pca\n",
    "\n",
    "\n",
    "# RNA\n",
    "sc.pp.filter_genes(adata_omics1, min_cells=10)\n",
    "sc.pp.highly_variable_genes(adata_omics1, flavor=\"seurat_v3\", n_top_genes=3000)\n",
    "sc.pp.normalize_total(adata_omics1, target_sum=1e4)\n",
    "sc.pp.log1p(adata_omics1)\n",
    "sc.pp.scale(adata_omics1)\n",
    "\n",
    "adata_omics1_high =  adata_omics1[:, adata_omics1.var['highly_variable']]\n",
    "adata_omics1.obsm['feat'] = pca(adata_omics1_high, n_comps=adata_omics2.n_vars-1)\n",
    "\n",
    "# Protein\n",
    "adata_omics2 = clr_normalize_each_cell(adata_omics2)\n",
    "sc.pp.scale(adata_omics2)\n",
    "adata_omics2.obsm['feat'] = pca(adata_omics2, n_comps=adata_omics2.n_vars-1)"
   ]
  },
  {
   "cell_type": "code",
   "execution_count": null,
   "id": "3a401906-5584-4fae-8acf-6e02bcb129c2",
   "metadata": {},
   "outputs": [],
   "source": [
    "from SpatialGlue.preprocess import construct_neighbor_graph,construct_graph_by_coordinate,construct_graph_by_feature\n",
    "data = construct_neighbor_graph(adata_omics1, adata_omics2, datatype=data_type)"
   ]
  },
  {
   "cell_type": "code",
   "execution_count": null,
   "id": "bfd08248-5d5a-4cf5-9c5b-45c211fde49d",
   "metadata": {},
   "outputs": [],
   "source": [
    "# define model\n",
    "from SpatialGlue.SpatialGlue_pyG import Train_SpatialGlue\n",
    "model = Train_SpatialGlue(data, datatype=data_type, device=device)\n",
    "\n",
    "# train model\n",
    "output = model.train()"
   ]
  },
  {
   "cell_type": "code",
   "execution_count": null,
   "id": "ba49d50a-2526-44f4-864f-68f456ef6a46",
   "metadata": {},
   "outputs": [],
   "source": [
    "adata = adata_omics1.copy()\n",
    "adata.obsm['emb_latent_omics1'] = output['emb_latent_omics1'].copy()\n",
    "adata.obsm['emb_latent_omics2'] = output['emb_latent_omics2'].copy()\n",
    "adata.obsm['SpatialGlue'] = output['SpatialGlue'].copy()\n",
    "adata.obsm['alpha'] = output['alpha']\n",
    "adata.obsm['alpha_omics1'] = output['alpha_omics1']\n",
    "adata.obsm['alpha_omics2'] = output['alpha_omics2']"
   ]
  },
  {
   "cell_type": "code",
   "execution_count": null,
   "id": "794c9d89-7fb4-4969-8153-149d38fabc70",
   "metadata": {},
   "outputs": [],
   "source": [
    "from SpatialGlue.utils import clustering\n",
    "tool = 'mclust' # mclust, leiden, and louvain\n",
    "clustering(adata, key='SpatialGlue', add_key='SpatialGlue', n_clusters=6, method=tool, use_pca=True)"
   ]
  },
  {
   "cell_type": "code",
   "execution_count": null,
   "id": "93546b75-53e0-4e59-ac5e-f46dedc62c3c",
   "metadata": {},
   "outputs": [],
   "source": [
    "# visualization\n",
    "import matplotlib.pyplot as plt\n",
    "fig, ax_list = plt.subplots(1, 2, figsize=(7, 3))\n",
    "sc.pp.neighbors(adata, use_rep='SpatialGlue', n_neighbors=10)\n",
    "sc.tl.umap(adata)\n",
    "\n",
    "sc.pl.umap(adata, color='SpatialGlue', ax=ax_list[0], title='SpatialGlue', s=20, show=False)\n",
    "sc.pl.embedding(adata, basis='spatial', color='SpatialGlue', ax=ax_list[1], title='SpatialGlue', s=25, show=False)\n",
    "\n",
    "plt.tight_layout(w_pad=0.3)\n",
    "plt.show()"
   ]
  },
  {
   "cell_type": "code",
   "execution_count": null,
   "id": "9fa51463-be00-4595-a63d-f8a0221cf665",
   "metadata": {
    "scrolled": true
   },
   "outputs": [],
   "source": [
    "import pandas as pd\n",
    "import seaborn as sns\n",
    "import matplotlib.pyplot as plt\n",
    "\n",
    "plt.rcParams['figure.figsize'] = (5, 3)\n",
    "df = pd.DataFrame(columns=['RNA', 'protein', 'label'])\n",
    "df['RNA'], df['protein'] = adata.obsm['alpha'][:, 0], adata.obsm['alpha'][:, 1]\n",
    "df['label'] = adata.obs['SpatialGlue'].values\n",
    "df = df.set_index('label').stack().reset_index()\n",
    "df.columns = ['label_SpatialGlue', 'Modality', 'Weight value']\n",
    "ax = sns.violinplot(data=df, x='label_SpatialGlue', y='Weight value', hue=\"Modality\",\n",
    "                    split=True, inner=\"quart\", linewidth=1)\n",
    "ax.set_title('RNA vs protein')\n",
    "ax.set_xlabel('SpatialGlue label')\n",
    "ax.legend(bbox_to_anchor=(1.4, 1.01), loc='upper right')\n",
    "plt.tight_layout(w_pad=0.05)\n",
    "plt.show()  # 显示图形\n"
   ]
  }
 ],
 "metadata": {
  "kernelspec": {
   "name": "python3",
   "language": "python",
   "display_name": "Python 3 (ipykernel)"
  },
  "language_info": {
   "codemirror_mode": {
    "name": "ipython",
    "version": 3
   },
   "file_extension": ".py",
   "mimetype": "text/x-python",
   "name": "python",
   "nbconvert_exporter": "python",
   "pygments_lexer": "ipython3",
   "version": "3.8.20"
  }
 },
 "nbformat": 4,
 "nbformat_minor": 5
}
